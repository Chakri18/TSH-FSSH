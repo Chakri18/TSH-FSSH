{
 "cells": [
  {
   "cell_type": "markdown",
   "metadata": {},
   "source": [
    "## One day Challenge: Build a parallel Trajectory Surface Hopping code for two level systems! \n",
    "\n",
    "**Hopefully this can be extended to system of any levels**"
   ]
  },
  {
   "cell_type": "code",
   "execution_count": null,
   "metadata": {},
   "outputs": [],
   "source": [
    "import numpy as np\n",
    "from matplotlib.pylab as plt"
   ]
  },
  {
   "cell_type": "markdown",
   "metadata": {},
   "source": [
    "### The required modules"
   ]
  },
  {
   "cell_type": "code",
   "execution_count": null,
   "metadata": {},
   "outputs": [],
   "source": [
    "def RK4():\n",
    "    k1 = f(t0,x0)*dt\n",
    "    k2 = f(t0+0.5*dt,x0+0.5*k1)*dt\n",
    "    k3 = f(t0+0.5*dt,x0+0.5*k2)*dt\n",
    "    k4 = f(t0+dt,x0+k3)*dt\n",
    "    x = x0 + (k1+k2+k2+k3+k3+k4)/6\n",
    "    return x\n",
    "\n",
    "def force(x, state):\n",
    "    dx = 0.001\n",
    "    return -1*(np.linalg.eigh(model(x+dx))[state] - np.linalg.eigh(model(x))[state])/dx\n",
    "\n",
    "def compute_nac(x):\n",
    "    nac = np.zeros([2,])\n",
    "    w,v = np.linalg.eigh(model(x))\n",
    "    nac[0] = (v[:,0].dot(grad_H(x,model)).dot(v[:,1]))/(w[1]-w[0])\n",
    "    nac[1] = -1*nac[0]\n",
    "    return nac\n",
    "\n",
    "def energy_trace(x,p):\n",
    "    pass\n",
    "\n",
    "def kinetic_trace():\n",
    "    pass\n",
    "\n",
    "def func():\n",
    "    \n",
    "def traj_evolve(init,dt):\n",
    "    \n",
    "    timestep = 0.001\n",
    "    nsteps   = int(dt/timestep)\n",
    "    \n",
    "    mass = init['mass']\n",
    "    x0 = init['init_position']\n",
    "    v0 = init['init_momentum']/mass\n",
    "    state = init['state']\n",
    "    t0 = 0.0\n",
    "    \n",
    "    if state == 0:\n",
    "        c0 = np.array([1,0], dtype = np.complex)\n",
    "    else:\n",
    "        c0 = np.array([0,1], dtype = np.complex)\n",
    "    curr_energy = energy_trace(x0,p0)\n",
    "    \n",
    "    for k in range(nsteps):\n",
    "        curr_force = force(x0,state)\n",
    "        xnew = x0 + dt*v0 + 0.5*dt*dt*curr_force/mass\n",
    "        new_force = force(x0,state)\n",
    "        vnew = v0 + 0.5*dt*(curr_force + new_force)/mass\n",
    "        \n",
    "        \n"
   ]
  }
 ],
 "metadata": {
  "kernelspec": {
   "display_name": "Python 3",
   "language": "python",
   "name": "python3"
  },
  "language_info": {
   "codemirror_mode": {
    "name": "ipython",
    "version": 3
   },
   "file_extension": ".py",
   "mimetype": "text/x-python",
   "name": "python",
   "nbconvert_exporter": "python",
   "pygments_lexer": "ipython3",
   "version": "3.6.8"
  },
  "latex_envs": {
   "LaTeX_envs_menu_present": true,
   "autoclose": false,
   "autocomplete": true,
   "bibliofile": "biblio.bib",
   "cite_by": "apalike",
   "current_citInitial": 1,
   "eqLabelWithNumbers": true,
   "eqNumInitial": 1,
   "hotkeys": {
    "equation": "Ctrl-E",
    "itemize": "Ctrl-I"
   },
   "labels_anchors": false,
   "latex_user_defs": false,
   "report_style_numbering": false,
   "user_envs_cfg": false
  },
  "toc": {
   "base_numbering": 1,
   "nav_menu": {},
   "number_sections": false,
   "sideBar": true,
   "skip_h1_title": true,
   "title_cell": "Table of Contents",
   "title_sidebar": "Contents",
   "toc_cell": false,
   "toc_position": {},
   "toc_section_display": true,
   "toc_window_display": false
  }
 },
 "nbformat": 4,
 "nbformat_minor": 2
}
