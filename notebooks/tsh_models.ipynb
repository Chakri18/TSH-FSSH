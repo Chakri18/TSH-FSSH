{
 "cells": [
  {
   "cell_type": "markdown",
   "metadata": {},
   "source": [
    "## Model systems for Trajectory Surface Hopping"
   ]
  },
  {
   "cell_type": "markdown",
   "metadata": {},
   "source": [
    "### Model system 1: A simple avoided crossing\n",
    "\n",
    "Diabatic representation of the system:\n",
    "\n",
    "$$ \\mathcal{H(x)} = \n",
    "\\begin{pmatrix}\n",
    "    H_{11}(x) & H_{12}(x)\\\\H_{21}(x) & H_{22}(x)\n",
    "\\end{pmatrix}$$\n",
    "\n",
    "where, \n",
    "\n",
    "$$H_{11}(x) =  \\begin{cases} A[1-exp(-Bx)] & x > 0  \\\\ -A[1-exp(Bx)] & x < 0 \\end{cases} \\\\\n",
    "H_{12}(x) = H_{21}(x) = C\\text{exp}(-Dx^2) \\\\\n",
    "H_{22}(x) = -H_{11}(x)\n",
    "$$"
   ]
  },
  {
   "cell_type": "code",
   "execution_count": 48,
   "metadata": {},
   "outputs": [],
   "source": [
    "import numpy as np\n",
    "\n",
    "def simple_avoided(x,A=0.01,B=1.6,C=0.005,D=1):\n",
    "    if x > 0:\n",
    "        H_11 = A*(1-np.exp(-1*B*x))\n",
    "    else:\n",
    "        H_11 = -1*A*(1-np.exp(B*x))\n",
    "    H_12 = H_21 = C*np.exp(-1*D*x**2)\n",
    "    H_22 = -1*H_11\n",
    "    return np.array([[H_11,H_12],[H_21,H_22]])\n",
    "\n",
    "#s_a = np.vectorize(simple_avoided)\n",
    "\n",
    "def dual_avoided(x,A=0.1,B=0.28,C=0.015,D=0.06,E0=0.05):\n",
    "    H_11 = 0;\n",
    "    H_12 = H_21 = C*np.exp(-1.6*D*x**2)\n",
    "    H_22 = -1*A*np.exp(-1*B*x**2) + E0\n",
    "    return np.array([[H_11,H_12],[H_21,H_22]])\n",
    "\n",
    "def extended_coupling(x,A=0.0006,B=0.1,C=0.9):\n",
    "    H_11 = A\n",
    "    H_22 = -1*A\n",
    "    if x > 0: H_12 = H_21 = B*(2-np.exp(-1*C*x))\n",
    "    else: H_12 = H_21 = B*np.exp(C*x)\n",
    "    return np.array([[H_11,H_12],[H_21,H_22]])\n",
    "\n",
    "def plot_pes(model, xmin, xmax):\n",
    "    import matplotlib.pylab as plt\n",
    "    x = np.linspace(xmin,xmax,1001)\n",
    "    y = np.zeros([len(x),2,])\n",
    "    if model == 1:\n",
    "        for k in range(len(x)):\n",
    "            y[k] = np.linalg.eigh(simple_avoided(x[k]))[0]\n",
    "    elif model == 2:\n",
    "        for k in range(len(x)):\n",
    "            y[k] = np.linalg.eigh(dual_avoided(x[k]))[0]\n",
    "    elif model == 3:\n",
    "        for k in range(len(x)):\n",
    "            y[k] = np.linalg.eigh(extended_coupling(x[k]))[0]\n",
    "    plt.plot(x,y[:,0], label = 'Ground state')\n",
    "    plt.plot(x,y[:,1], label = 'Excited state')\n",
    "    plt.title('Potential Energy Surface(PES)')\n",
    "    plt.show()"
   ]
  }
 ],
 "metadata": {
  "kernelspec": {
   "display_name": "Python 3",
   "language": "python",
   "name": "python3"
  },
  "language_info": {
   "codemirror_mode": {
    "name": "ipython",
    "version": 3
   },
   "file_extension": ".py",
   "mimetype": "text/x-python",
   "name": "python",
   "nbconvert_exporter": "python",
   "pygments_lexer": "ipython3",
   "version": "3.6.8"
  },
  "latex_envs": {
   "LaTeX_envs_menu_present": true,
   "autoclose": false,
   "autocomplete": true,
   "bibliofile": "biblio.bib",
   "cite_by": "apalike",
   "current_citInitial": 1,
   "eqLabelWithNumbers": true,
   "eqNumInitial": 1,
   "hotkeys": {
    "equation": "Ctrl-E",
    "itemize": "Ctrl-I"
   },
   "labels_anchors": false,
   "latex_user_defs": false,
   "report_style_numbering": false,
   "user_envs_cfg": false
  },
  "toc": {
   "base_numbering": 1,
   "nav_menu": {},
   "number_sections": false,
   "sideBar": true,
   "skip_h1_title": true,
   "title_cell": "Table of Contents",
   "title_sidebar": "Contents",
   "toc_cell": false,
   "toc_position": {},
   "toc_section_display": true,
   "toc_window_display": false
  }
 },
 "nbformat": 4,
 "nbformat_minor": 2
}
